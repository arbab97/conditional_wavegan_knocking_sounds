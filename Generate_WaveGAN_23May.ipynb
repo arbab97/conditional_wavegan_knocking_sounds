{
  "nbformat": 4,
  "nbformat_minor": 0,
  "metadata": {
    "colab": {
      "name": "Generate_WaveGAN.ipynb",
      "provenance": []
    },
    "kernelspec": {
      "name": "python3",
      "display_name": "Python 3"
    },
    "language_info": {
      "name": "python"
    }
  },
  "cells": [
    {
      "cell_type": "code",
      "metadata": {
        "id": "lOOomL2DbsPd"
      },
      "source": [
        "import tensorflow as tf\n",
        "import numpy as np\n",
        "import json\n",
        "from IPython.display import display, Audio\n",
        "from tqdm import tqdm\n",
        "import librosa"
      ],
      "execution_count": 1,
      "outputs": []
    },
    {
      "cell_type": "code",
      "metadata": {
        "colab": {
          "base_uri": "https://localhost:8080/"
        },
        "id": "EmSkzvQmcbyp",
        "outputId": "9a719b44-dd70-4d7c-c336-138d08545e63"
      },
      "source": [
        "from google.colab import drive\n",
        "drive.mount('/content/drive')"
      ],
      "execution_count": 2,
      "outputs": [
        {
          "output_type": "stream",
          "text": [
            "Mounted at /content/drive\n"
          ],
          "name": "stdout"
        }
      ]
    },
    {
      "cell_type": "code",
      "metadata": {
        "colab": {
          "base_uri": "https://localhost:8080/"
        },
        "id": "eId3y5q4dahk",
        "outputId": "cd6b8b62-f473-4efb-cc02-8ca8bb1a59ef"
      },
      "source": [
        "!git clone https://github.com/arbab97/conditional_wavegan_knocking_sounds"
      ],
      "execution_count": 3,
      "outputs": [
        {
          "output_type": "stream",
          "text": [
            "Cloning into 'conditional_wavegan_knocking_sounds'...\n",
            "remote: Enumerating objects: 68, done.\u001b[K\n",
            "remote: Counting objects: 100% (68/68), done.\u001b[K\n",
            "remote: Compressing objects: 100% (53/53), done.\u001b[K\n",
            "remote: Total 68 (delta 34), reused 40 (delta 15), pack-reused 0\u001b[K\n",
            "Unpacking objects: 100% (68/68), done.\n"
          ],
          "name": "stdout"
        }
      ]
    },
    {
      "cell_type": "code",
      "metadata": {
        "id": "JqVtIu8wcBo1"
      },
      "source": [
        "path_to_generator = '/content/drive/MyDrive/Colab Notebooks/waveGanforMusictraining/19-05-2021_15h/generator.h5'\n",
        "path_to_labels = '/content/drive/MyDrive/Colab Notebooks/waveGanforMusictraining/19-05-2021_15h/label_names.json'\n",
        "z_dim = 100\n",
        "sample_rate = 8192"
      ],
      "execution_count": 4,
      "outputs": []
    },
    {
      "cell_type": "code",
      "metadata": {
        "id": "uE6CIUdtcD8h",
        "colab": {
          "base_uri": "https://localhost:8080/"
        },
        "outputId": "a388b1ae-4b1e-4176-a546-31a072234942"
      },
      "source": [
        "#load the generator\n",
        "generator = tf.keras.models.load_model(path_to_generator)"
      ],
      "execution_count": 5,
      "outputs": [
        {
          "output_type": "stream",
          "text": [
            "WARNING:tensorflow:No training configuration found in the save file, so the model was *not* compiled. Compile it manually.\n"
          ],
          "name": "stdout"
        }
      ]
    },
    {
      "cell_type": "code",
      "metadata": {
        "id": "8r4TexmbcFkE",
        "colab": {
          "base_uri": "https://localhost:8080/"
        },
        "outputId": "975e88a7-a9f0-4725-dd16-e4be3efbd26e"
      },
      "source": [
        "#read the labels from the generated dictionary during training\n",
        "with open(path_to_labels) as json_file:\n",
        "    label_names = json.load(json_file)\n",
        "label_names"
      ],
      "execution_count": 6,
      "outputs": [
        {
          "output_type": "execute_result",
          "data": {
            "text/plain": [
              "{'0': 'Seka', '1': 'Saba', '2': 'Ajam'}"
            ]
          },
          "metadata": {
            "tags": []
          },
          "execution_count": 6
        }
      ]
    },
    {
      "cell_type": "code",
      "metadata": {
        "colab": {
          "base_uri": "https://localhost:8080/"
        },
        "id": "8Xzm6WF0fK4t",
        "outputId": "6d37c23e-3382-4fbd-8ee6-7e011f449b28"
      },
      "source": [
        "import pandas as pd\n",
        "import numpy as np\n",
        "from sklearn.manifold import TSNE\n",
        "df_original=pd.read_pickle(\"/content/drive/MyDrive/Colab Notebooks/df_backup\")  #number of samples that you want       \n",
        "df_original=df_original.sample(99)\n",
        "\n",
        "labels_names = []\n",
        "\n",
        "for index, row in df_original.iterrows():\n",
        "    one_value=np.array(row[\"output\"])[0].flatten()\n",
        "    pad_one_value = np.pad(one_value, (0, (128*768)- len(one_value) ), 'constant', \n",
        "              constant_values=(0))\n",
        "    labels_names.append(pad_one_value)\n",
        "    print(pad_one_value.shape)\n",
        "\n",
        "labels_names=np.array(labels_names)\n",
        "labels_names = TSNE(n_components=100, method='exact').fit_transform(labels_names)\n",
        "labels_np = np.expand_dims(labels_names, axis = -1)"
      ],
      "execution_count": 35,
      "outputs": [
        {
          "output_type": "stream",
          "text": [
            "(98304,)\n",
            "(98304,)\n",
            "(98304,)\n",
            "(98304,)\n",
            "(98304,)\n",
            "(98304,)\n",
            "(98304,)\n",
            "(98304,)\n",
            "(98304,)\n",
            "(98304,)\n",
            "(98304,)\n",
            "(98304,)\n",
            "(98304,)\n",
            "(98304,)\n",
            "(98304,)\n",
            "(98304,)\n",
            "(98304,)\n",
            "(98304,)\n",
            "(98304,)\n",
            "(98304,)\n",
            "(98304,)\n",
            "(98304,)\n",
            "(98304,)\n",
            "(98304,)\n",
            "(98304,)\n",
            "(98304,)\n",
            "(98304,)\n",
            "(98304,)\n",
            "(98304,)\n",
            "(98304,)\n",
            "(98304,)\n",
            "(98304,)\n",
            "(98304,)\n",
            "(98304,)\n",
            "(98304,)\n",
            "(98304,)\n",
            "(98304,)\n",
            "(98304,)\n",
            "(98304,)\n",
            "(98304,)\n",
            "(98304,)\n",
            "(98304,)\n",
            "(98304,)\n",
            "(98304,)\n",
            "(98304,)\n",
            "(98304,)\n",
            "(98304,)\n",
            "(98304,)\n",
            "(98304,)\n",
            "(98304,)\n",
            "(98304,)\n",
            "(98304,)\n",
            "(98304,)\n",
            "(98304,)\n",
            "(98304,)\n",
            "(98304,)\n",
            "(98304,)\n",
            "(98304,)\n",
            "(98304,)\n",
            "(98304,)\n",
            "(98304,)\n",
            "(98304,)\n",
            "(98304,)\n",
            "(98304,)\n",
            "(98304,)\n",
            "(98304,)\n",
            "(98304,)\n",
            "(98304,)\n",
            "(98304,)\n",
            "(98304,)\n",
            "(98304,)\n",
            "(98304,)\n",
            "(98304,)\n",
            "(98304,)\n",
            "(98304,)\n",
            "(98304,)\n",
            "(98304,)\n",
            "(98304,)\n",
            "(98304,)\n",
            "(98304,)\n",
            "(98304,)\n",
            "(98304,)\n",
            "(98304,)\n",
            "(98304,)\n",
            "(98304,)\n",
            "(98304,)\n",
            "(98304,)\n",
            "(98304,)\n",
            "(98304,)\n",
            "(98304,)\n",
            "(98304,)\n",
            "(98304,)\n",
            "(98304,)\n",
            "(98304,)\n",
            "(98304,)\n",
            "(98304,)\n",
            "(98304,)\n",
            "(98304,)\n",
            "(98304,)\n"
          ],
          "name": "stdout"
        }
      ]
    },
    {
      "cell_type": "code",
      "metadata": {
        "id": "07rdnW9vcLGQ"
      },
      "source": [
        "import soundfile as sf\n",
        "noise  = tf.random.normal(shape=(labels_np.shape[0], z_dim))\n",
        "# label_synth = tf.constant(int(emotion), shape=(n_samples_label,1))\n",
        "label_synth=labels_np.reshape(-1  ,  (labels_np.shape[0])).T\n",
        "synth_audio = generator.predict([noise, label_synth])\n",
        "for i in range((synth_audio.shape[0])):\n",
        "  sf.write(f'/content/conditional_wavegan_knocking_sounds/generated/{i}.wav', np.squeeze(synth_audio[i]), sample_rate)\n",
        "  # librosa.output.write_wav(f'{i}.wav', y = np.squeeze(synth_audio[i]), sr = sample_rate, norm=False)"
      ],
      "execution_count": 37,
      "outputs": []
    },
    {
      "cell_type": "code",
      "metadata": {
        "id": "FHBDWqmvn861"
      },
      "source": [
        "!zip "
      ],
      "execution_count": null,
      "outputs": []
    },
    {
      "cell_type": "code",
      "metadata": {
        "id": "XVoqwaA4eAjH"
      },
      "source": [
        "# random_latent_vectors = tf.random.normal(shape=(1, self.latent_dim))"
      ],
      "execution_count": null,
      "outputs": []
    },
    {
      "cell_type": "code",
      "metadata": {
        "colab": {
          "base_uri": "https://localhost:8080/"
        },
        "id": "wGvvkjLzg9rD",
        "outputId": "cc8ba03e-15be-4108-bb0f-453c7df6fa9f"
      },
      "source": [
        "type(label_names)"
      ],
      "execution_count": 14,
      "outputs": [
        {
          "output_type": "execute_result",
          "data": {
            "text/plain": [
              "dict"
            ]
          },
          "metadata": {
            "tags": []
          },
          "execution_count": 14
        }
      ]
    },
    {
      "cell_type": "code",
      "metadata": {
        "id": "I9lmJHXVeA7N"
      },
      "source": [
        "self.generator([tf.random.normal(shape=(1, self.latent_dim)), np.array(range(0,100)).reshape(-1,100)])"
      ],
      "execution_count": null,
      "outputs": []
    },
    {
      "cell_type": "code",
      "metadata": {
        "colab": {
          "base_uri": "https://localhost:8080/"
        },
        "id": "dqhshQCkhLgp",
        "outputId": "31480b60-4397-40bd-a2dd-b11a89bd7ea4"
      },
      "source": [
        "label_synth=labels_np[2].reshape(-1,1).T\n",
        "label_synth.shape"
      ],
      "execution_count": 24,
      "outputs": [
        {
          "output_type": "execute_result",
          "data": {
            "text/plain": [
              "(1, 100)"
            ]
          },
          "metadata": {
            "tags": []
          },
          "execution_count": 24
        }
      ]
    },
    {
      "cell_type": "code",
      "metadata": {
        "colab": {
          "base_uri": "https://localhost:8080/"
        },
        "id": "gJn08UFGhtxC",
        "outputId": "6f52f362-0418-4504-9059-c657fed03f89"
      },
      "source": [
        "# label_synth = np.array(0).reshape(-1,1)\n",
        "# label_synth.shape"
      ],
      "execution_count": 19,
      "outputs": [
        {
          "output_type": "execute_result",
          "data": {
            "text/plain": [
              "(1, 1)"
            ]
          },
          "metadata": {
            "tags": []
          },
          "execution_count": 19
        }
      ]
    },
    {
      "cell_type": "code",
      "metadata": {
        "colab": {
          "base_uri": "https://localhost:8080/"
        },
        "id": "up4p5r6ahPFK",
        "outputId": "5f55bdef-60f4-46d3-86a5-d3aea944b60d"
      },
      "source": [
        "np.array(range(0,100)).reshape(-1,100).shape"
      ],
      "execution_count": 17,
      "outputs": [
        {
          "output_type": "execute_result",
          "data": {
            "text/plain": [
              "(1, 100)"
            ]
          },
          "metadata": {
            "tags": []
          },
          "execution_count": 17
        }
      ]
    },
    {
      "cell_type": "code",
      "metadata": {
        "colab": {
          "base_uri": "https://localhost:8080/"
        },
        "id": "X82x2ZpNiT9h",
        "outputId": "f56ead33-9ef1-4106-a24e-952903b5eb12"
      },
      "source": [
        "label_synth.shape"
      ],
      "execution_count": 23,
      "outputs": [
        {
          "output_type": "execute_result",
          "data": {
            "text/plain": [
              "(1, 100)"
            ]
          },
          "metadata": {
            "tags": []
          },
          "execution_count": 23
        }
      ]
    },
    {
      "cell_type": "code",
      "metadata": {
        "id": "C8FTs3NicHOv",
        "colab": {
          "base_uri": "https://localhost:8080/",
          "height": 110
        },
        "outputId": "990a5ff5-570c-497d-b3c0-b4a6f9b98a7f"
      },
      "source": [
        "#create noise and label\n",
        "label = 0\n",
        "noise = np.random.normal(0,1, (1, z_dim))\n",
        "label_synth=label_synth\n",
        "#synthesise the audio\n",
        "%time synth_audio = generator.predict([noise, label_synth])\n",
        "\n",
        "#listen to the synthesised audio\n",
        "display(Audio(np.squeeze(synth_audio[0]), rate = sample_rate))"
      ],
      "execution_count": 25,
      "outputs": [
        {
          "output_type": "stream",
          "text": [
            "CPU times: user 646 ms, sys: 3.38 ms, total: 649 ms\n",
            "Wall time: 376 ms\n"
          ],
          "name": "stdout"
        },
        {
          "output_type": "display_data",
          "data": {
            "text/html": [
              "\n",
              "                <audio controls=\"controls\" >\n",
              "                    <source src=\"data:audio/wav;base64,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\" type=\"audio/wav\" />\n",
              "                    Your browser does not support the audio element.\n",
              "                </audio>\n",
              "              "
            ],
            "text/plain": [
              "<IPython.lib.display.Audio object>"
            ]
          },
          "metadata": {
            "tags": []
          }
        }
      ]
    }
  ]
}